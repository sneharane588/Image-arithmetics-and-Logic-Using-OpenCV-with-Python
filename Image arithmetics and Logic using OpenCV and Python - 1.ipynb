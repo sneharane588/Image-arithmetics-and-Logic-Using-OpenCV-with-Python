{
 "cells": [
  {
   "cell_type": "markdown",
   "metadata": {},
   "source": [
    "# Image arithmetics and Logic - 1"
   ]
  },
  {
   "cell_type": "code",
   "execution_count": 1,
   "metadata": {},
   "outputs": [],
   "source": [
    "import cv2\n",
    "import numpy as np"
   ]
  },
  {
   "cell_type": "code",
   "execution_count": null,
   "metadata": {},
   "outputs": [],
   "source": [
    "#we're using both of the image of exact same sizes\n",
    "#Here I got two images of 300x300\n",
    "img1 = cv2.imread(\"size300-1.png\")\n",
    "img2 = cv2.imread(\"size300-2.png\")\n",
    "\n",
    "#adding the images\n",
    "add = img1 + img2\n",
    "add1 = cv2.add(img1,img2) #pixel vales are added and we got more brighter image\n",
    "#weighted\n",
    "weighted = cv2.addWeighted(img1, 0.6, img2, 0.4, 0)\n",
    "\n",
    "\n",
    "#showing the output images\n",
    "cv2.imshow(\"Add\",add)\n",
    "cv2.imshow(\"Add1\",add1)\n",
    "cv2.imshow(\"weighted\",weighted)\n",
    "\n",
    "cv2.waitKey(0)\n",
    "cv2.destroyAllWindows()\n",
    "\n",
    "#saving the output images\n",
    "cv2.imwrite(\"add.png\",add)\n",
    "cv2.imwrite(\"add1.png\",add1)\n",
    "cv2.imwrite(\"weighted.png\",weighted)"
   ]
  },
  {
   "cell_type": "code",
   "execution_count": null,
   "metadata": {},
   "outputs": [],
   "source": []
  }
 ],
 "metadata": {
  "kernelspec": {
   "display_name": "Python 3",
   "language": "python",
   "name": "python3"
  },
  "language_info": {
   "codemirror_mode": {
    "name": "ipython",
    "version": 3
   },
   "file_extension": ".py",
   "mimetype": "text/x-python",
   "name": "python",
   "nbconvert_exporter": "python",
   "pygments_lexer": "ipython3",
   "version": "3.8.2"
  }
 },
 "nbformat": 4,
 "nbformat_minor": 4
}
