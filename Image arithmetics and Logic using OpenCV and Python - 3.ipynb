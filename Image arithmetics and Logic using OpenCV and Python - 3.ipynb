{
 "cells": [
  {
   "cell_type": "markdown",
   "metadata": {},
   "source": [
    "# Image arithmetics and Logic - 3"
   ]
  },
  {
   "cell_type": "code",
   "execution_count": 6,
   "metadata": {},
   "outputs": [],
   "source": [
    "import cv2\n",
    "import numpy as np"
   ]
  },
  {
   "cell_type": "markdown",
   "metadata": {},
   "source": [
    "###  Logic Operations"
   ]
  },
  {
   "cell_type": "code",
   "execution_count": 9,
   "metadata": {},
   "outputs": [
    {
     "name": "stdout",
     "output_type": "stream",
     "text": [
      "(300, 300, 3)\n"
     ]
    }
   ],
   "source": [
    "img3 = cv2.imread(\"size300-3.jpg\")  #tree\n",
    "img4 = cv2.imread(\"openCV.png\")     #logo\n",
    "#show\n",
    "cv2.imshow(\"img3before\",img3)\n",
    "cv2.imshow(\"img4before\",img4)\n",
    "\n",
    "print(img3.shape) #output: (300, 300, 3)\n",
    "\n",
    "rows,cols,channels = img4.shape\n",
    "roi = img3[0:rows,0:cols] #selecting portion of img3(tree) of size img4(logo)\n",
    "#show\n",
    "cv2.imshow(\"roi\",roi)\n",
    "\n",
    "img4togray = cv2.cvtColor(img4,cv2.COLOR_BGR2GRAY) # create gray version of logo\n",
    "#show\n",
    "cv2.imshow(\"img4togray\",img4togray)\n",
    "\n",
    "#now apply threshold(where to apply,threshold value,color,)\n",
    "ret, mask = cv2.threshold(img4togray, 220, 255, cv2.THRESH_BINARY_INV) #INV for inversion\n",
    "#show\n",
    "cv2.imshow(\"mask\",mask)\n",
    "\n",
    "mask_inv  = cv2.bitwise_not(mask) #inv for invisible\n",
    "#show\n",
    "cv2.imshow(\"mask_inv\",mask_inv)\n",
    "\n",
    "img3_bg = cv2.bitwise_and(roi, roi, mask=mask_inv)\n",
    "img4_fg = cv2.bitwise_and(img4, img4, mask=mask)\n",
    "#show\n",
    "cv2.imshow(\"img3_bg\",img3_bg)\n",
    "cv2.imshow(\"img4_fg\",img4_fg)\n",
    "\n",
    "dst = cv2.add(img3_bg, img4_fg)\n",
    "#show\n",
    "cv2.imshow(\"dst\",dst)\n",
    "\n",
    "img3[0:rows, 0:cols] = dst\n",
    "#show\n",
    "cv2.imshow(\"img3\",img3)\n",
    "\n",
    "\n",
    "\n",
    "cv2.waitKey(0)\n",
    "cv2.destroyAllWindows()\n",
    "# 'import cv2\\nimport numpy as np',\n",
    " #'img3 = cv2.imread(\"size300-3.jpg\")  #tree\\nimg4 = cv2.imread(\"openCV.png\")     #logo\\n#show\\ncv2.imshow(\"img3before\",img3)\\ncv2.imshow(\"img4before\",img4)\\n\\nprint(img3.shape) #output: (300, 300, 3)\\n\\nrows,cols,channels = img4.shape\\nroi = img3[0:rows,0:cols] #selecting portion of img3(tree) of size img4(logo)\\n#show\\ncv2.imshow(\"roi\",roi)\\n\\nimg4togray = cv2.cvtColor(img4,cv2.COLOR_BGR2GRAY) # create gray version of logo\\n#show\\ncv2.imshow(\"img4togray\",img4togray)\\n\\n#now apply threshold(where to apply,threshold value,color,)\\nret, mask = cv2.threshold(img4togray, 220, 255, cv2.THRESH_BINARY_INV) #INV for inversion\\n#show\\ncv2.imshow(\"mask\",mask)\\n\\nmask_inv  = cv2.bitwise_not(mask) #inv for invisible\\n#show\\ncv2.imshow(\"mask_inv\",mask_inv)\\n\\nimg3_bg = cv2.bitwise_and(roi, roi, mask=mask_inv)\\nimg4_fg = cv2.bitwise_and(img4, img4, mask=mask)\\n#show\\ncv2.imshow(\"img3_bg\",img3_bg)\\ncv2.imshow(\"img4_fg\",img4_fg)\\n\\ndst = cv2.add(img3_bg, img4_fg)\\n#show\\ncv2.imshow(\"dst\",dst)\\n\\nimg3[0:rows, 0:cols] = dst\\n#show\\ncv2.imshow(\"img3\",img3)\\n\\n\\ncv2.waitKey(0)\\ncv2.destroyAllWindows()"
   ]
  },
  {
   "cell_type": "code",
   "execution_count": null,
   "metadata": {},
   "outputs": [],
   "source": []
  }
 ],
 "metadata": {
  "kernelspec": {
   "display_name": "Python 3",
   "language": "python",
   "name": "python3"
  },
  "language_info": {
   "codemirror_mode": {
    "name": "ipython",
    "version": 3
   },
   "file_extension": ".py",
   "mimetype": "text/x-python",
   "name": "python",
   "nbconvert_exporter": "python",
   "pygments_lexer": "ipython3",
   "version": "3.8.2"
  }
 },
 "nbformat": 4,
 "nbformat_minor": 4
}
